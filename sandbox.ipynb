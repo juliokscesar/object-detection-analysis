{
 "cells": [
  {
   "cell_type": "markdown",
   "metadata": {},
   "source": [
    "# Sandbox for running and testing individual tasks"
   ]
  },
  {
   "cell_type": "code",
   "execution_count": null,
   "metadata": {},
   "outputs": [],
   "source": [
    "%set_env CUDA_VISIBLE_DEVICES=1"
   ]
  },
  {
   "cell_type": "markdown",
   "metadata": {},
   "source": [
    "## Count and plot objects in images"
   ]
  },
  {
   "cell_type": "code",
   "execution_count": null,
   "metadata": {},
   "outputs": [],
   "source": [
    "from object_detection_analysis.analysis import DetectionAnalysisContext\n",
    "from object_detection_analysis.tasks import CountAnalysisTask\n",
    "from scg_detection_tools.utils.file_handling import get_all_files_from_paths\n",
    "\n",
    "imgs = get_all_files_from_paths(\"/home/juliocesar/leaf-detection/imgs/first_analysis\", stem_sort=True)\n",
    "analysis = DetectionAnalysisContext(\n",
    "    imgs = imgs, \n",
    "    config=\"/home/juliocesar/leaf-detection/object-detection-analysis/analysis_config.yaml\", \n",
    "    tasks=[\n",
    "        (\"ObjectCount\", CountAnalysisTask(plot_all=True, plot_per_class=False)),\n",
    "    ],\n",
    ")\n",
    "analysis.run()"
   ]
  },
  {
   "cell_type": "markdown",
   "metadata": {},
   "source": [
    "## Validate model count (error in getting true count of objects)"
   ]
  },
  {
   "cell_type": "code",
   "execution_count": null,
   "metadata": {},
   "outputs": [],
   "source": [
    "from object_detection_analysis.analysis import DetectionAnalysisContext\n",
    "from object_detection_analysis.tasks import CountValidateModelTask\n",
    "from scg_detection_tools.utils.file_handling import get_all_files_from_paths\n",
    "\n",
    "TEST_IMG_PATH = \"/home/juliocesar/leaf-detection/datasets/leaf-dataset/test/images\"\n",
    "TEST_LABELS = \"/home/juliocesar/leaf-detection/datasets/leaf-dataset/test/labels\"\n",
    "imgs = get_all_files_from_paths(TEST_IMG_PATH)\n",
    "analysis = DetectionAnalysisContext(\n",
    "    imgs=imgs, \n",
    "    config=\"/home/juliocesar/leaf-detection/object-detection-analysis/analysis_config.yaml\", \n",
    "    tasks=[\n",
    "        (\"CountValidation\", CountValidateModelTask(annotations_path=TEST_LABELS)),\n",
    "    ]\n",
    ")\n",
    "analysis.change_configs({\"detection_parameters\": {\"slice_detect\": False, \"detection_filters\": {\"duplicate_filter\": False, \"object_size_filter\": False}}})\n",
    "analysis.run()"
   ]
  },
  {
   "cell_type": "code",
   "execution_count": 3,
   "metadata": {},
   "outputs": [],
   "source": [
    "analysis.export_detections()"
   ]
  },
  {
   "cell_type": "markdown",
   "metadata": {},
   "source": [
    "## Object color classification"
   ]
  },
  {
   "cell_type": "code",
   "execution_count": null,
   "metadata": {},
   "outputs": [],
   "source": [
    "from object_detection_analysis.analysis import DetectionAnalysisContext\n",
    "from object_detection_analysis.tasks import CountAnalysisTask, ObjectClassificationTask, ObjectAreaOccupationTask\n",
    "from scg_detection_tools.utils.file_handling import get_all_files_from_paths\n",
    "\n",
    "imgs = [\n",
    "    \"/home/juliocesar/leaf-detection/imgs/analysis_test/0_640x640.png\",\n",
    "    \"/home/juliocesar/leaf-detection/imgs/analysis_test/1_640x640.png\",\n",
    "    \"/home/juliocesar/leaf-detection/imgs/analysis_test/2_640x640_aglom.png\",\n",
    "    \"/home/juliocesar/leaf-detection/imgs/old_scg_control_tests/set25_14.png\",\n",
    "]\n",
    "\n",
    "analysis = DetectionAnalysisContext(\n",
    "    imgs=imgs, \n",
    "    config=\"/home/juliocesar/leaf-detection/object-detection-analysis/analysis_config.yaml\", \n",
    "    tasks=[\n",
    "        (\"ObjectClassification\", ObjectClassificationTask(\n",
    "            clf=\"resnet18_mlp\", \n",
    "            clf_ckpt_path=\"/home/juliocesar/leaf-detection/checkpoints/classifiers/mlp_rn18.pt\", \n",
    "            clf_cls_labels=[\"dark\", \"dead\", \"light\", \"medium\"], \n",
    "            clf_cls_colors={\"dark\": \"red\", \"dead\": \"black\", \"light\": \"deepskyblue\", \"medium\": \"yellow\"},\n",
    "            show_detections=True, \n",
    "            plot_per_image=True,\n",
    "        )),\n",
    "    ]\n",
    ")\n",
    "analysis.run()\n"
   ]
  },
  {
   "cell_type": "markdown",
   "metadata": {},
   "source": [
    "## Object area occupation"
   ]
  },
  {
   "cell_type": "code",
   "execution_count": null,
   "metadata": {},
   "outputs": [],
   "source": [
    "from object_detection_analysis.analysis import DetectionAnalysisContext\n",
    "from object_detection_analysis.tasks import CountAnalysisTask, ObjectClassificationTask, ObjectAreaOccupationTask\n",
    "from scg_detection_tools.utils.file_handling import get_all_files_from_paths\n",
    "\n",
    "# FATAL: currently there is no way to segment a big image without overheading memory.\n",
    "# TODO: fix this memory overhead (implement on-slice segmentation)\n",
    "\n",
    "# imgs = [\n",
    "#     \"/home/juliocesar/leaf-detection/imgs/analysis_test/0_640x640.png\",\n",
    "#     \"/home/juliocesar/leaf-detection/imgs/analysis_test/1_640x640.png\",\n",
    "#     \"/home/juliocesar/leaf-detection/imgs/analysis_test/2_640x640_aglom.png\",\n",
    "#     \"/home/juliocesar/leaf-detection/imgs/old_scg_control_tests/set25_14.png\",\n",
    "# ]\n",
    "imgs = get_all_files_from_paths(\"/home/juliocesar/leaf-detection/imgs/first_analysis\", stem_sort=True)[:1]\n",
    "analysis = DetectionAnalysisContext(\n",
    "    imgs=imgs, \n",
    "    config=\"/home/juliocesar/leaf-detection/object-detection-analysis/analysis_config.yaml\", \n",
    "    tasks=[\n",
    "        (\"ObjectAreaOccupation\", ObjectAreaOccupationTask(plot_per_class=True)),\n",
    "    ]\n",
    ")\n",
    "analysis.run()\n"
   ]
  },
  {
   "cell_type": "markdown",
   "metadata": {},
   "source": [
    "## Custom pipeline"
   ]
  },
  {
   "cell_type": "code",
   "execution_count": null,
   "metadata": {},
   "outputs": [],
   "source": [
    "%set_env CUDA_VISIBLE_DEVICES=1"
   ]
  },
  {
   "cell_type": "code",
   "execution_count": null,
   "metadata": {},
   "outputs": [],
   "source": [
    "from object_detection_analysis.analysis import DetectionAnalysisContext\n",
    "from object_detection_analysis.tasks import CountAnalysisTask, ObjectClassificationTask, ObjectAreaOccupationTask\n",
    "from object_detection_analysis.classifiers import classifier_from_name\n",
    "from scg_detection_tools.utils.file_handling import get_all_files_from_paths\n",
    "\n",
    "IMG_DIR = \"/home/juliocesar/leaf-detection/imgs/oct1_analysis\"\n",
    "imgs = get_all_files_from_paths(IMG_DIR, stem_sort=True, skip_ext=[\".txt\"])\n",
    "\n",
    "clf = \"mlp\"\n",
    "clf_path = \"/home/juliocesar/leaf-detection/checkpoints/classifiers/mlp_rn34.pt\"\n",
    "clf_cls_labels = [\"dark\", \"dead\", \"light\", \"medium\"]\n",
    "clf_cls_colors = {\"dark\": \"red\", \"dead\": \"black\", \"light\": \"deepskyblue\", \"medium\": \"#B024C0\"}\n",
    "\n",
    "analysis = DetectionAnalysisContext(\n",
    "    imgs=imgs,\n",
    "    config=\"analysis_config.yaml\",\n",
    "    tasks=[\n",
    "        (\"LeafCount\", CountAnalysisTask(plot=True, xlabel=\"Image ID\", ylabel=\"Number of leaves\")),\n",
    "        (\"LeafAreaOccupation\", ObjectAreaOccupationTask(use_boxes=False, plot=True, xlabel=\"Image ID\", ylabel=\"Area ratio occupied by leaves\")),\n",
    "        (\"LeafColorClassification\", ObjectClassificationTask(clf=clf, clf_cls_colors=clf_cls_colors, clf_cls_labels=clf_cls_labels, clf_input_batch=16, clf_ckpt_path=clf_path, show_classifications=False, show_detections=False, use_boxes=False, plot=True, xlabel=\"Image ID\", ylabel=\"Number of leaves per classification\")), \n",
    "    ],\n",
    "    image_specific_parameters = {\n",
    "        2: { \"slice_wh\": (512,512) },\n",
    "        9: { \"slice_wh\": (512,512) },\n",
    "    },\n",
    ")\n",
    "analysis.run()\n",
    "analysis.task_summary()\n",
    "analysis.plot_tasks(plot_total_results=False, plot_per_class_results=True)\n",
    "analysis.export_csv_tasks()"
   ]
  },
  {
   "cell_type": "code",
   "execution_count": 3,
   "metadata": {},
   "outputs": [],
   "source": [
    "analysis.export_detections()"
   ]
  },
  {
   "cell_type": "markdown",
   "metadata": {},
   "source": [
    "# Test"
   ]
  },
  {
   "cell_type": "code",
   "execution_count": null,
   "metadata": {},
   "outputs": [],
   "source": [
    "from object_detection_analysis.analysis import DetectionAnalysisContext\n",
    "from object_detection_analysis.tasks import CountAnalysisTask, ObjectClassificationTask, ObjectAreaOccupationTask\n",
    "from scg_detection_tools.utils.file_handling import get_all_files_from_paths\n",
    "\n",
    "imgs = [\n",
    "    \"/home/juliocesar/leaf-detection/imgs/analysis_test/0_640x640.png\",\n",
    "    \"/home/juliocesar/leaf-detection/imgs/analysis_test/1_640x640.png\",\n",
    "    \"/home/juliocesar/leaf-detection/imgs/analysis_test/2_640x640_aglom.png\",\n",
    "    \"/home/juliocesar/leaf-detection/imgs/old_scg_control_tests/set25_14.png\",\n",
    "]\n",
    "# imgs = get_all_files_from_paths(\"/home/juliocesar/leaf-detection/imgs/first_analysis\", stem_sort=True)\n",
    "\n",
    "analysis = DetectionAnalysisContext(\n",
    "    imgs=imgs, \n",
    "    config=\"/home/juliocesar/leaf-detection/object-detection-analysis/analysis_config.yaml\", \n",
    "    tasks=[\n",
    "        (\"ObjectCount\", CountAnalysisTask(plot=True, xlabel=\"Image ID\", ylabel=\"Number of objects\")),\n",
    "        (\"ObjectAreaOccupation\", ObjectAreaOccupationTask(use_boxes=False, plot=True, xlabel=\"Image ID\", ylabel=\"Area occupied by objects\")),\n",
    "        (\"ObjectClassification\", ObjectClassificationTask(\n",
    "            clf=\"cnn_fc\", \n",
    "            clf_ckpt_path=\"/home/juliocesar/leaf-detection/checkpoints/classifiers/cnn.pt\", \n",
    "            clf_cls_labels=[\"dark\", \"dead\", \"light\", \"medium\"], \n",
    "            clf_cls_colors={\"dark\": \"red\", \"dead\": \"black\", \"light\": \"deepskyblue\", \"medium\": \"yellow\"},\n",
    "            show_classifications=False,\n",
    "            show_detections=False, \n",
    "            use_boxes=False,\n",
    "            plot=True, xlabel=\"Image ID\", ylabel=\"Number of objects per classified class\",\n",
    "        )),\n",
    "    ],\n",
    ")\n",
    "analysis.change_configs({\"detection_parameters\": {\"slice_detect\": False}})\n",
    "analysis.run()\n"
   ]
  },
  {
   "cell_type": "code",
   "execution_count": null,
   "metadata": {},
   "outputs": [],
   "source": [
    "analysis.plot_tasks(plot_total_results=False, plot_per_class_results=True, save_plots=False)\n",
    "analysis.export_csv_tasks(skip_tasks=None)"
   ]
  },
  {
   "cell_type": "code",
   "execution_count": null,
   "metadata": {},
   "outputs": [],
   "source": [
    "from object_detection_analysis.analysis import DetectionAnalysisContext\n",
    "from object_detection_analysis.tasks import CountValidateModelTask\n",
    "from scg_detection_tools.utils.file_handling import get_all_files_from_paths\n",
    "\n",
    "TEST_IMG_PATH = \"/home/juliocesar/leaf-detection/datasets/gen-leaf-dataset-v9/test/images\"\n",
    "TEST_LABELS = \"/home/juliocesar/leaf-detection/datasets/gen-leaf-dataset-v9/test/labels\"\n",
    "imgs = get_all_files_from_paths(TEST_IMG_PATH)\n",
    "analysis = DetectionAnalysisContext(\n",
    "    imgs=imgs, \n",
    "    config=\"/home/juliocesar/leaf-detection/object-detection-analysis/analysis_config.yaml\", \n",
    "    tasks=[\n",
    "        (\"CountValidation\", CountValidateModelTask(annotations_path=TEST_LABELS)),\n",
    "    ]\n",
    ")\n",
    "results = analysis.run()"
   ]
  },
  {
   "cell_type": "code",
   "execution_count": null,
   "metadata": {},
   "outputs": [],
   "source": [
    "# Test new image masking code\n",
    "import os\n",
    "os.environ[\"CUDA_VISIBLE_DEVICES\"] = \"1\"\n",
    "\n",
    "from object_detection_analysis.analysis import DetectionAnalysisContext\n",
    "\n",
    "imgs = [\n",
    "    \"/home/juliocesar/leaf-detection/imgs/objdet_test/0_640x640.png\",\n",
    "]\n",
    "analysis = DetectionAnalysisContext(imgs=imgs, config=\"analysis_config.yaml\")\n",
    "analysis.change_configs({\"detection_parameters\": {\"slice_detect\": False}})\n",
    "analysis._run_detections()\n",
    "analysis._run_segmentations()\n",
    "analysis.show_masks()\n",
    "analysis.show_detections()"
   ]
  }
 ],
 "metadata": {
  "kernelspec": {
   "display_name": "yoloanalysis",
   "language": "python",
   "name": "python3"
  },
  "language_info": {
   "codemirror_mode": {
    "name": "ipython",
    "version": 3
   },
   "file_extension": ".py",
   "mimetype": "text/x-python",
   "name": "python",
   "nbconvert_exporter": "python",
   "pygments_lexer": "ipython3",
   "version": "3.10.15"
  }
 },
 "nbformat": 4,
 "nbformat_minor": 2
}
