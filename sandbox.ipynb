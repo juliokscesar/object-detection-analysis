{
 "cells": [
  {
   "cell_type": "markdown",
   "metadata": {},
   "source": [
    "# Sandbox for running and testing individual tasks"
   ]
  },
  {
   "cell_type": "markdown",
   "metadata": {},
   "source": [
    "## Count and plot objects in images"
   ]
  },
  {
   "cell_type": "code",
   "execution_count": null,
   "metadata": {},
   "outputs": [],
   "source": [
    "from object_detection_analysis.analysis import DetectionAnalysisContext\n",
    "from object_detection_analysis.tasks import CountAnalysisTask\n",
    "from scg_detection_tools.utils.file_handling import get_all_files_from_paths\n",
    "\n",
    "imgs = get_all_files_from_paths(\"/home/juliocesar/leaf-detection/imgs/first_analysis\", stem_sort=True)\n",
    "analysis = DetectionAnalysisContext(\n",
    "    imgs = imgs, \n",
    "    config=\"/home/juliocesar/leaf-detection/object-detection-analysis/analysis_config.yaml\", \n",
    "    tasks=[\n",
    "        (\"ObjectCount\", CountAnalysisTask(plot_all=True, plot_per_class=False)),\n",
    "    ],\n",
    ")\n",
    "analysis.run()"
   ]
  },
  {
   "cell_type": "markdown",
   "metadata": {},
   "source": [
    "## Validate model count (error in getting true count of objects)"
   ]
  },
  {
   "cell_type": "code",
   "execution_count": null,
   "metadata": {},
   "outputs": [],
   "source": [
    "from object_detection_analysis.analysis import DetectionAnalysisContext\n",
    "from object_detection_analysis.tasks import CountValidateModelTask\n",
    "from scg_detection_tools.utils.file_handling import get_all_files_from_paths\n",
    "\n",
    "TEST_IMG_PATH = \"/home/juliocesar/leaf-detection/datasets/gen-leaf-dataset-v9/test/images\"\n",
    "TEST_LABELS = \"/home/juliocesar/leaf-detection/datasets/gen-leaf-dataset-v9/test/labels\"\n",
    "imgs = get_all_files_from_paths(TEST_IMG_PATH)\n",
    "analysis = DetectionAnalysisContext(\n",
    "    imgs=imgs, \n",
    "    config=\"/home/juliocesar/leaf-detection/object-detection-analysis/analysis_config.yaml\", \n",
    "    tasks=[\n",
    "        (\"CountValidation\", CountValidateModelTask(annotations_path=TEST_LABELS)),\n",
    "    ]\n",
    ")\n",
    "analysis.run()"
   ]
  },
  {
   "cell_type": "markdown",
   "metadata": {},
   "source": [
    "## Object color classification"
   ]
  },
  {
   "cell_type": "code",
   "execution_count": null,
   "metadata": {},
   "outputs": [],
   "source": [
    "from object_detection_analysis.analysis import DetectionAnalysisContext\n",
    "from object_detection_analysis.tasks import CountAnalysisTask, ObjectClassificationTask, ObjectAreaOccupationTask\n",
    "from scg_detection_tools.utils.file_handling import get_all_files_from_paths\n",
    "\n",
    "imgs = [\n",
    "    \"/home/juliocesar/leaf-detection/imgs/analysis_test/0_640x640.png\",\n",
    "    \"/home/juliocesar/leaf-detection/imgs/analysis_test/1_640x640.png\",\n",
    "    \"/home/juliocesar/leaf-detection/imgs/analysis_test/2_640x640_aglom.png\",\n",
    "    \"/home/juliocesar/leaf-detection/imgs/old_scg_control_tests/set25_14.png\",\n",
    "]\n",
    "\n",
    "analysis = DetectionAnalysisContext(\n",
    "    imgs=imgs, \n",
    "    config=\"/home/juliocesar/leaf-detection/object-detection-analysis/analysis_config.yaml\", \n",
    "    tasks=[\n",
    "        (\"ObjectClassification\", ObjectClassificationTask(\n",
    "            clf=\"resnet18_mlp\", \n",
    "            clf_ckpt_path=\"/home/juliocesar/leaf-detection/checkpoints/classifiers/mlp_rn18.pt\", \n",
    "            clf_cls_labels=[\"dark\", \"dead\", \"light\", \"medium\"], \n",
    "            clf_cls_colors={\"dark\": \"red\", \"dead\": \"black\", \"light\": \"deepskyblue\", \"medium\": \"yellow\"},\n",
    "            show_detections=True, \n",
    "            plot_per_image=True,\n",
    "        )),\n",
    "    ]\n",
    ")\n",
    "analysis.run()\n"
   ]
  },
  {
   "cell_type": "markdown",
   "metadata": {},
   "source": [
    "## Object area occupation"
   ]
  },
  {
   "cell_type": "code",
   "execution_count": null,
   "metadata": {},
   "outputs": [],
   "source": [
    "from object_detection_analysis.analysis import DetectionAnalysisContext\n",
    "from object_detection_analysis.tasks import CountAnalysisTask, ObjectClassificationTask, ObjectAreaOccupationTask\n",
    "from scg_detection_tools.utils.file_handling import get_all_files_from_paths\n",
    "\n",
    "# FATAL: currently there is no way to segment a big image without overheading memory.\n",
    "# TODO: fix this memory overhead (implement on-slice segmentation)\n",
    "\n",
    "# imgs = [\n",
    "#     \"/home/juliocesar/leaf-detection/imgs/analysis_test/0_640x640.png\",\n",
    "#     \"/home/juliocesar/leaf-detection/imgs/analysis_test/1_640x640.png\",\n",
    "#     \"/home/juliocesar/leaf-detection/imgs/analysis_test/2_640x640_aglom.png\",\n",
    "#     \"/home/juliocesar/leaf-detection/imgs/old_scg_control_tests/set25_14.png\",\n",
    "# ]\n",
    "imgs = get_all_files_from_paths(\"/home/juliocesar/leaf-detection/imgs/first_analysis\", stem_sort=True)[:1]\n",
    "analysis = DetectionAnalysisContext(\n",
    "    imgs=imgs, \n",
    "    config=\"/home/juliocesar/leaf-detection/object-detection-analysis/analysis_config.yaml\", \n",
    "    tasks=[\n",
    "        (\"ObjectAreaOccupation\", ObjectAreaOccupationTask(plot_per_class=True)),\n",
    "    ]\n",
    ")\n",
    "analysis.run()\n"
   ]
  },
  {
   "cell_type": "markdown",
   "metadata": {},
   "source": [
    "## Custom pipeline"
   ]
  },
  {
   "cell_type": "code",
   "execution_count": null,
   "metadata": {},
   "outputs": [],
   "source": [
    "%set_env CUDA_VISIBLE_DEVICES=1"
   ]
  },
  {
   "cell_type": "code",
   "execution_count": null,
   "metadata": {},
   "outputs": [],
   "source": [
    "from object_detection_analysis.analysis import DetectionAnalysisContext\n",
    "from object_detection_analysis.tasks import CountAnalysisTask, ObjectClassificationTask, ObjectAreaOccupationTask\n",
    "from object_detection_analysis.classifiers import classifier_from_name\n",
    "from scg_detection_tools.utils.file_handling import get_all_files_from_paths\n",
    "\n",
    "IMG_DIR = \"/home/juliocesar/leaf-detection/imgs/oct1_analysis\"\n",
    "imgs = get_all_files_from_paths(IMG_DIR, stem_sort=True)\n",
    "\n",
    "clf = \"cnn_fc\"\n",
    "clf_path = \"/home/juliocesar/leaf-detection/checkpoints/classifiers/cnn_box.pt\"\n",
    "clf_cls_labels = [\"dark\", \"dead\", \"light\", \"medium\"]\n",
    "clf_cls_colors = {\"dark\": \"red\", \"dead\": \"black\", \"light\": \"deepskyblue\", \"medium\": \"yellow\"}\n",
    "\n",
    "analysis = DetectionAnalysisContext(\n",
    "    imgs=imgs,\n",
    "    config=\"analysis_config.yaml\",\n",
    "    tasks=[\n",
    "        (\"LeafCount\", CountAnalysisTask(export_csv=True, plot_all=True, plot_per_class=True)),\n",
    "        (\"LeafColorClassification\", ObjectClassificationTask(clf=clf, clf_cls_colors=clf_cls_colors, clf_cls_labels=clf_cls_labels, clf_ckpt_path=clf_path, show_classifications=False, plot_per_image=True, use_boxes=True)),\n",
    "        (\"LeafAreaOccupation\", ObjectAreaOccupationTask(export_csv=True, plot=True, use_boxes=True)),\n",
    "    ],\n",
    "    image_specific_parameters = {\n",
    "        2: { \"slice_wh\": (480,480) },\n",
    "    },\n",
    ")\n",
    "analysis.run()\n",
    "analysis.task_sumary()"
   ]
  },
  {
   "cell_type": "code",
   "execution_count": null,
   "metadata": {},
   "outputs": [],
   "source": [
    "analysis.export_detections()"
   ]
  },
  {
   "cell_type": "markdown",
   "metadata": {},
   "source": [
    "# Test"
   ]
  },
  {
   "cell_type": "code",
   "execution_count": null,
   "metadata": {},
   "outputs": [],
   "source": [
    "from object_detection_analysis.analysis import DetectionAnalysisContext\n",
    "from object_detection_analysis.tasks import CountAnalysisTask, ObjectClassificationTask, ObjectAreaOccupationTask\n",
    "from scg_detection_tools.utils.file_handling import get_all_files_from_paths\n",
    "\n",
    "imgs = [\n",
    "    \"/home/juliocesar/leaf-detection/imgs/analysis_test/0_640x640.png\",\n",
    "    \"/home/juliocesar/leaf-detection/imgs/analysis_test/1_640x640.png\",\n",
    "    \"/home/juliocesar/leaf-detection/imgs/analysis_test/2_640x640_aglom.png\",\n",
    "    \"/home/juliocesar/leaf-detection/imgs/old_scg_control_tests/set25_14.png\",\n",
    "]\n",
    "#imgs = get_all_files_from_paths(\"/home/juliocesar/leaf-detection/imgs/first_analysis\", stem_sort=True)\n",
    "\n",
    "analysis = DetectionAnalysisContext(\n",
    "    imgs=imgs, \n",
    "    config=\"/home/juliocesar/leaf-detection/object-detection-analysis/analysis_config.yaml\", \n",
    "    tasks=[\n",
    "        (\"ObjectCount\", CountAnalysisTask()),\n",
    "        (\"ObjectClassification\", ObjectClassificationTask(\n",
    "            clf=\"resnet18_mlp\", \n",
    "            clf_ckpt_path=\"/home/juliocesar/leaf-detection/checkpoints/classifiers/mlp_rn18.pt\", \n",
    "            clf_cls_labels=[\"dark\", \"dead\", \"light\", \"medium\"], \n",
    "            clf_cls_colors={\"dark\": \"red\", \"dead\": \"black\", \"light\": \"deepskyblue\", \"medium\": \"yellow\"},\n",
    "            show_detections=True, \n",
    "            plot_per_image=True,\n",
    "            use_boxes=False,\n",
    "        )),\n",
    "        (\"ObjectAreaOccupation\", ObjectAreaOccupationTask(plot_per_class=True, use_boxes=False)),\n",
    "    ],\n",
    ")\n",
    "results = analysis.run()\n"
   ]
  },
  {
   "cell_type": "code",
   "execution_count": null,
   "metadata": {},
   "outputs": [],
   "source": [
    "from object_detection_analysis.analysis import DetectionAnalysisContext\n",
    "from object_detection_analysis.tasks import CountValidateModelTask\n",
    "from scg_detection_tools.utils.file_handling import get_all_files_from_paths\n",
    "\n",
    "TEST_IMG_PATH = \"/home/juliocesar/leaf-detection/datasets/gen-leaf-dataset-v9/test/images\"\n",
    "TEST_LABELS = \"/home/juliocesar/leaf-detection/datasets/gen-leaf-dataset-v9/test/labels\"\n",
    "imgs = get_all_files_from_paths(TEST_IMG_PATH)\n",
    "analysis = DetectionAnalysisContext(\n",
    "    imgs=imgs, \n",
    "    config=\"/home/juliocesar/leaf-detection/object-detection-analysis/analysis_config.yaml\", \n",
    "    tasks=[\n",
    "        (\"CountValidation\", CountValidateModelTask(annotations_path=TEST_LABELS)),\n",
    "    ]\n",
    ")\n",
    "results = analysis.run()"
   ]
  }
 ],
 "metadata": {
  "kernelspec": {
   "display_name": "leaf-detection",
   "language": "python",
   "name": "python3"
  },
  "language_info": {
   "codemirror_mode": {
    "name": "ipython",
    "version": 3
   },
   "file_extension": ".py",
   "mimetype": "text/x-python",
   "name": "python",
   "nbconvert_exporter": "python",
   "pygments_lexer": "ipython3",
   "version": "3.10.14"
  }
 },
 "nbformat": 4,
 "nbformat_minor": 2
}
