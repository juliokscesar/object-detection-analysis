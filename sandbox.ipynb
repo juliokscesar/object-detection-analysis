{
 "cells": [
  {
   "cell_type": "markdown",
   "metadata": {},
   "source": [
    "# Test"
   ]
  },
  {
   "cell_type": "code",
   "execution_count": null,
   "metadata": {},
   "outputs": [],
   "source": [
    "from object_detection_analysis.analysis import DetectionAnalysisContext\n",
    "from object_detection_analysis.tasks import CountAnalysisTask, ObjectClassificationTask\n",
    "\n",
    "imgs = [\n",
    "    \"/home/juliocesar/leaf-detection/imgs/analysis_test/0_640x640.png\",\n",
    "    \"/home/juliocesar/leaf-detection/imgs/analysis_test/1_640x640.png\",\n",
    "    \"/home/juliocesar/leaf-detection/imgs/analysis_test/2_640x640_aglom.png\",\n",
    "]\n",
    "\n",
    "analysis = DetectionAnalysisContext(\n",
    "    imgs=imgs, \n",
    "    config=\"/home/juliocesar/leaf-detection/object-detection-analysis/analysis_config.yaml\", \n",
    "    tasks=[\n",
    "        (\"ObjectCount\", CountAnalysisTask()),\n",
    "        (\"ObjectClassification\", ObjectClassificationTask(\n",
    "            clf=\"knn\", \n",
    "            clf_ckpt_path=\"/home/juliocesar/leaf-detection/checkpoints/classifiers/knn_k4.skl\", \n",
    "            clf_cls_labels=[\"dark\", \"dead\", \"light\", \"medium\"], \n",
    "            clf_cls_colors={\"dark\": \"red\", \"dead\": \"black\", \"light\": \"deepskyblue\", \"medium\": \"yellow\"},\n",
    "            show_detections=True, \n",
    "            plot_per_image=True,\n",
    "        )),\n",
    "    ]\n",
    ")\n",
    "results = analysis.run()"
   ]
  },
  {
   "cell_type": "code",
   "execution_count": null,
   "metadata": {},
   "outputs": [],
   "source": [
    "from analysis import DetectionAnalysisContext\n",
    "from tasks import CountValidateModelTask\n",
    "from scg_detection_tools.utils.file_handling import get_all_files_from_paths\n",
    "\n",
    "TEST_IMG_PATH = \"/home/juliocesar/leaf-detection/datasets/gen-leaf-dataset-v9/test/images\"\n",
    "TEST_LABELS = \"/home/juliocesar/leaf-detection/datasets/gen-leaf-dataset-v9/test/labels\"\n",
    "imgs = get_all_files_from_paths(TEST_IMG_PATH)\n",
    "analysis = DetectionAnalysisContext(\n",
    "    imgs=imgs, \n",
    "    config=\"/home/juliocesar/leaf-detection/object-detection-analysis/analysis_config.yaml\", \n",
    "    tasks=[\n",
    "        (\"CountValidation\", CountValidateModelTask(annotations_path=TEST_LABELS)),\n",
    "    ]\n",
    ")\n",
    "results = analysis.run()"
   ]
  },
  {
   "cell_type": "code",
   "execution_count": null,
   "metadata": {},
   "outputs": [],
   "source": [
    "%set_env CUDA_VISIBLE_DEVICES=0"
   ]
  }
 ],
 "metadata": {
  "kernelspec": {
   "display_name": "leaf-detection",
   "language": "python",
   "name": "python3"
  },
  "language_info": {
   "codemirror_mode": {
    "name": "ipython",
    "version": 3
   },
   "file_extension": ".py",
   "mimetype": "text/x-python",
   "name": "python",
   "nbconvert_exporter": "python",
   "pygments_lexer": "ipython3",
   "version": "3.10.14"
  }
 },
 "nbformat": 4,
 "nbformat_minor": 2
}
